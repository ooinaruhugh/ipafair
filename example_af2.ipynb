{
 "cells": [
  {
   "attachments": {},
   "cell_type": "markdown",
   "metadata": {},
   "source": [
    "# Editing arguments and attacks"
   ]
  },
  {
   "attachments": {},
   "cell_type": "markdown",
   "metadata": {},
   "source": [
    "## Initialization"
   ]
  },
  {
   "cell_type": "code",
   "execution_count": 22,
   "metadata": {},
   "outputs": [],
   "source": [
    "from incraf import IncrAFSolver\n",
    "\n",
    "from clingo.control import Control\n",
    "from clingo.solving import Model\n",
    "\n",
    "from clingox.program import Program, ProgramObserver"
   ]
  },
  {
   "cell_type": "code",
   "execution_count": 23,
   "metadata": {},
   "outputs": [],
   "source": [
    "def dump_ground_program(solver):\n",
    "    print(solver.prg)\n",
    "\n",
    "def on_model(m: Model):\n",
    "    print(f\"Model {m.number}:\", m)"
   ]
  },
  {
   "attachments": {},
   "cell_type": "markdown",
   "metadata": {},
   "source": [
    "## Loading of the AF"
   ]
  },
  {
   "cell_type": "code",
   "execution_count": 24,
   "metadata": {},
   "outputs": [],
   "source": [
    "filename = \"asp/af1.lp\"\n",
    "semantic = \"naive\""
   ]
  },
  {
   "cell_type": "code",
   "execution_count": 25,
   "metadata": {},
   "outputs": [],
   "source": [
    "ctl1 = Control(arguments=[\"--models=0\"])\n",
    "prg1 = Program()\n",
    "ctl1.register_observer(ProgramObserver(prg1))\n",
    "\n",
    "ctl1.load(filename)\n",
    "ctl1.load(f\"dung/{semantic}.dl\")\n",
    "ctl1.load(\"asp/filter.lp\")\n",
    "\n",
    "ctl1.ground()\n",
    "\n",
    "af = IncrAFSolver(semantic, filename)\n",
    "# dump_ground_program(af)"
   ]
  },
  {
   "attachments": {},
   "cell_type": "markdown",
   "metadata": {},
   "source": [
    "We call `solve_enum` for the initial AF, which produces all naive extensions in this case."
   ]
  },
  {
   "cell_type": "code",
   "execution_count": 26,
   "metadata": {},
   "outputs": [
    {
     "name": "stdout",
     "output_type": "stream",
     "text": [
      "=== Static solver ===\n",
      "Model 1: in(a) in(c)\n",
      "Model 2: in(b)\n",
      "\n",
      "=== Incremental solver ===\n",
      "DEBUG Model 1: in(b)\n",
      "DEBUG Model 2: in(a) in(c)\n"
     ]
    }
   ],
   "source": [
    "print(\"=== Static solver ===\")\n",
    "ctl1.solve(on_model=on_model)\n",
    "\n",
    "print(\"\\n=== Incremental solver ===\")\n",
    "af.solve_enum(verbose=True);"
   ]
  },
  {
   "attachments": {},
   "cell_type": "markdown",
   "metadata": {},
   "source": [
    "## Editing operations\n",
    "Next, we try to transfrom the initial AF (as in `asp/af1.lp`) into the \n",
    "AF as in `asp/af3.lp` (a cycle of length 4)."
   ]
  },
  {
   "cell_type": "code",
   "execution_count": 27,
   "metadata": {},
   "outputs": [
    {
     "ename": "RuntimeError",
     "evalue": "redefinition of atom <'okOut(c)',12>",
     "output_type": "error",
     "traceback": [
      "\u001b[0;31m---------------------------------------------------------------------------\u001b[0m",
      "\u001b[0;31mRuntimeError\u001b[0m                              Traceback (most recent call last)",
      "Cell \u001b[0;32mIn[27], line 4\u001b[0m\n\u001b[1;32m      2\u001b[0m af\u001b[39m.\u001b[39mdel_attack(\u001b[39m\"\u001b[39m\u001b[39mb\u001b[39m\u001b[39m\"\u001b[39m, \u001b[39m\"\u001b[39m\u001b[39ma\u001b[39m\u001b[39m\"\u001b[39m)\n\u001b[1;32m      3\u001b[0m af\u001b[39m.\u001b[39mdel_attack(\u001b[39m\"\u001b[39m\u001b[39mc\u001b[39m\u001b[39m\"\u001b[39m, \u001b[39m\"\u001b[39m\u001b[39mb\u001b[39m\u001b[39m\"\u001b[39m)\n\u001b[0;32m----> 4\u001b[0m af\u001b[39m.\u001b[39;49madd_attack(\u001b[39m\"\u001b[39;49m\u001b[39mc\u001b[39;49m\u001b[39m\"\u001b[39;49m, \u001b[39m\"\u001b[39;49m\u001b[39md\u001b[39;49m\u001b[39m\"\u001b[39;49m)\n\u001b[1;32m      5\u001b[0m af\u001b[39m.\u001b[39madd_attack(\u001b[39m\"\u001b[39m\u001b[39md\u001b[39m\u001b[39m\"\u001b[39m, \u001b[39m\"\u001b[39m\u001b[39ma\u001b[39m\u001b[39m\"\u001b[39m)\n\u001b[1;32m      6\u001b[0m af\u001b[39m.\u001b[39madd_attack(\u001b[39m\"\u001b[39m\u001b[39mb\u001b[39m\u001b[39m\"\u001b[39m, \u001b[39m\"\u001b[39m\u001b[39mc\u001b[39m\u001b[39m\"\u001b[39m)\n",
      "File \u001b[0;32m~/repos/ipafair/incraf.py:202\u001b[0m, in \u001b[0;36mIncrAFSolver.add_attack\u001b[0;34m(self, source, target, attack)\u001b[0m\n\u001b[1;32m    199\u001b[0m \u001b[39mwith\u001b[39;00m SymbolicBackend(\u001b[39mself\u001b[39m\u001b[39m.\u001b[39mctl\u001b[39m.\u001b[39mbackend()) \u001b[39mas\u001b[39;00m backend:\n\u001b[1;32m    200\u001b[0m     backend\u001b[39m.\u001b[39madd_external(attack, TruthValue(\u001b[39mTrue\u001b[39;00m))\n\u001b[0;32m--> 202\u001b[0m \u001b[39mif\u001b[39;00m \u001b[39mnot\u001b[39;00m old: \u001b[39mself\u001b[39;49m\u001b[39m.\u001b[39;49mctl\u001b[39m.\u001b[39;49mground([(\u001b[39m\"\u001b[39;49m\u001b[39madd_attack\u001b[39;49m\u001b[39m\"\u001b[39;49m, attack\u001b[39m.\u001b[39;49marguments)])\n",
      "File \u001b[0;32m/usr/lib/python3.10/site-packages/clingo/control.py:484\u001b[0m, in \u001b[0;36mControl.ground\u001b[0;34m(self, parts, context)\u001b[0m\n\u001b[1;32m    481\u001b[0m         c_part\u001b[39m.\u001b[39mparams[i] \u001b[39m=\u001b[39m sym\u001b[39m.\u001b[39m_rep\n\u001b[1;32m    482\u001b[0m     c_part\u001b[39m.\u001b[39msize \u001b[39m=\u001b[39m \u001b[39mlen\u001b[39m(part[\u001b[39m1\u001b[39m])\n\u001b[0;32m--> 484\u001b[0m _handle_error(\n\u001b[1;32m    485\u001b[0m     _lib\u001b[39m.\u001b[39;49mclingo_control_ground(\u001b[39mself\u001b[39;49m\u001b[39m.\u001b[39;49m_rep, c_parts, \u001b[39mlen\u001b[39;49m(parts), c_cb, c_data),\n\u001b[1;32m    486\u001b[0m     data,\n\u001b[1;32m    487\u001b[0m )\n",
      "File \u001b[0;32m/usr/lib/python3.10/site-packages/clingo/_internal.py:75\u001b[0m, in \u001b[0;36m_handle_error\u001b[0;34m(ret, handler)\u001b[0m\n\u001b[1;32m     73\u001b[0m \u001b[39mif\u001b[39;00m code \u001b[39m==\u001b[39m _lib\u001b[39m.\u001b[39mclingo_error_bad_alloc:\n\u001b[1;32m     74\u001b[0m     \u001b[39mraise\u001b[39;00m \u001b[39mMemoryError\u001b[39;00m(msg)\n\u001b[0;32m---> 75\u001b[0m \u001b[39mraise\u001b[39;00m \u001b[39mRuntimeError\u001b[39;00m(msg)\n",
      "\u001b[0;31mRuntimeError\u001b[0m: redefinition of atom <'okOut(c)',12>"
     ]
    }
   ],
   "source": [
    "af.add_argument(\"d\")\n",
    "af.del_attack(\"b\", \"a\")\n",
    "af.del_attack(\"c\", \"b\")\n",
    "af.add_attack(\"c\", \"d\")\n",
    "af.add_attack(\"d\", \"a\")\n",
    "af.add_attack(\"b\", \"c\")"
   ]
  },
  {
   "cell_type": "code",
   "execution_count": null,
   "metadata": {},
   "outputs": [],
   "source": [
    "# dump_ground_program(af)"
   ]
  },
  {
   "attachments": {},
   "cell_type": "markdown",
   "metadata": {},
   "source": [
    "Now we load `asp/af3.lp` statically to compare the output."
   ]
  },
  {
   "cell_type": "code",
   "execution_count": null,
   "metadata": {},
   "outputs": [],
   "source": [
    "ctl2 = Control(arguments=[\"--models=0\"])\n",
    "prg2 = Program()\n",
    "ctl2.register_observer(ProgramObserver(prg2))\n",
    "\n",
    "ctl2.load(\"asp/af3.lp\")\n",
    "ctl2.load(f\"dung/{semantic}.dl\")\n",
    "ctl2.load(\"asp/filter.lp\")\n",
    "\n",
    "ctl2.ground()"
   ]
  },
  {
   "cell_type": "code",
   "execution_count": null,
   "metadata": {},
   "outputs": [
    {
     "name": "stdout",
     "output_type": "stream",
     "text": [
      "=== Static solver ===\n",
      "Model 1: in(b) in(d)\n",
      "Model 2: in(a) in(c)\n",
      "\n",
      "=== Incremental solver ===\n",
      "DEBUG Model 1: in(a) in(c) in(d)\n",
      "DEBUG Model 2: in(b) in(c) in(d)\n"
     ]
    }
   ],
   "source": [
    "print(\"=== Static solver ===\")\n",
    "ctl2.solve(on_model=on_model)\n",
    "\n",
    "print(\"\\n=== Incremental solver ===\")\n",
    "af.solve_enum(verbose=True);"
   ]
  }
 ],
 "metadata": {
  "kernelspec": {
   "display_name": "Python 3",
   "language": "python",
   "name": "python3"
  },
  "language_info": {
   "codemirror_mode": {
    "name": "ipython",
    "version": 3
   },
   "file_extension": ".py",
   "mimetype": "text/x-python",
   "name": "python",
   "nbconvert_exporter": "python",
   "pygments_lexer": "ipython3",
   "version": "3.10.9"
  },
  "orig_nbformat": 4,
  "vscode": {
   "interpreter": {
    "hash": "e7370f93d1d0cde622a1f8e1c04877d8463912d04d973331ad4851f04de6915a"
   }
  }
 },
 "nbformat": 4,
 "nbformat_minor": 2
}
