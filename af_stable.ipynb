{
 "cells": [
  {
   "cell_type": "code",
   "execution_count": 42,
   "metadata": {},
   "outputs": [],
   "source": [
    "def dump_ground_program(solver):\n",
    "    print(solver.prg)"
   ]
  },
  {
   "cell_type": "code",
   "execution_count": 43,
   "metadata": {},
   "outputs": [],
   "source": [
    "from incraf import incr_af_solver\n",
    "\n",
    "from clingo.core import TruthValue\n",
    "from clingo.control import Control\n",
    "from clingo.symbol import Number, Function, Symbol, String\n",
    "from clingo.solving import Model, SolveResult\n",
    "\n",
    "from clingox.program import Program, ProgramObserver\n",
    "from clingox.backend import SymbolicBackend"
   ]
  },
  {
   "cell_type": "code",
   "execution_count": 44,
   "metadata": {},
   "outputs": [],
   "source": [
    "def on_model(m: Model):\n",
    "    print(f\"Model {m.number}:\", m)"
   ]
  },
  {
   "attachments": {},
   "cell_type": "markdown",
   "metadata": {},
   "source": [
    "# Static"
   ]
  },
  {
   "cell_type": "code",
   "execution_count": 45,
   "metadata": {},
   "outputs": [],
   "source": [
    "filename = \"asp/af1.lp\"\n",
    "semantic = \"stable\""
   ]
  },
  {
   "cell_type": "code",
   "execution_count": 46,
   "metadata": {},
   "outputs": [],
   "source": [
    "ctl = Control(arguments=[\"--models=0\"])\n",
    "prg = Program()\n",
    "ctl.register_observer(ProgramObserver(prg))\n",
    "\n",
    "ctl.load(filename)\n",
    "ctl.load(f\"dung/{semantic}.dl\")\n",
    "ctl.load(\"asp/filter.lp\")\n",
    "\n",
    "ctl.ground()"
   ]
  },
  {
   "cell_type": "code",
   "execution_count": 47,
   "metadata": {},
   "outputs": [
    {
     "name": "stdout",
     "output_type": "stream",
     "text": [
      "Model 1: in(a) in(c)\n"
     ]
    },
    {
     "data": {
      "text/plain": [
       "True"
      ]
     },
     "execution_count": 47,
     "metadata": {},
     "output_type": "execute_result"
    }
   ],
   "source": [
    "ctl.solve(on_model=on_model).satisfiable"
   ]
  },
  {
   "attachments": {},
   "cell_type": "markdown",
   "metadata": {},
   "source": [
    "# Incremental"
   ]
  },
  {
   "cell_type": "code",
   "execution_count": 48,
   "metadata": {},
   "outputs": [],
   "source": [
    "af = incr_af_solver(semantic, filename)"
   ]
  },
  {
   "cell_type": "code",
   "execution_count": 49,
   "metadata": {},
   "outputs": [
    {
     "name": "stdout",
     "output_type": "stream",
     "text": [
      "DEBUG Model 1: in(a) in(c)\n"
     ]
    },
    {
     "data": {
      "text/plain": [
       "[[Function('in', [Function('a', [], True)], True),\n",
       "  Function('in', [Function('c', [], True)], True)]]"
      ]
     },
     "execution_count": 49,
     "metadata": {},
     "output_type": "execute_result"
    }
   ],
   "source": [
    "af.solve_enum()"
   ]
  },
  {
   "cell_type": "code",
   "execution_count": 51,
   "metadata": {},
   "outputs": [
    {
     "ename": "RuntimeError",
     "evalue": "redefinition of atom <'defeated(a)',4>",
     "output_type": "error",
     "traceback": [
      "\u001b[0;31m---------------------------------------------------------------------------\u001b[0m",
      "\u001b[0;31mRuntimeError\u001b[0m                              Traceback (most recent call last)",
      "Cell \u001b[0;32mIn[51], line 5\u001b[0m\n\u001b[1;32m      3\u001b[0m af\u001b[39m.\u001b[39mdel_attack(attack\u001b[39m=\u001b[39mFunction(\u001b[39m\"\u001b[39m\u001b[39matt\u001b[39m\u001b[39m\"\u001b[39m, [Function(\u001b[39m'\u001b[39m\u001b[39mc\u001b[39m\u001b[39m'\u001b[39m, []), Function(\u001b[39m'\u001b[39m\u001b[39mb\u001b[39m\u001b[39m'\u001b[39m, [])]))\n\u001b[1;32m      4\u001b[0m af\u001b[39m.\u001b[39madd_attack(attack\u001b[39m=\u001b[39mFunction(\u001b[39m\"\u001b[39m\u001b[39matt\u001b[39m\u001b[39m\"\u001b[39m, [Function(\u001b[39m'\u001b[39m\u001b[39mc\u001b[39m\u001b[39m'\u001b[39m, []), Function(\u001b[39m'\u001b[39m\u001b[39md\u001b[39m\u001b[39m'\u001b[39m, [])]))\n\u001b[0;32m----> 5\u001b[0m af\u001b[39m.\u001b[39;49madd_attack(attack\u001b[39m=\u001b[39;49mFunction(\u001b[39m\"\u001b[39;49m\u001b[39matt\u001b[39;49m\u001b[39m\"\u001b[39;49m, [Function(\u001b[39m'\u001b[39;49m\u001b[39md\u001b[39;49m\u001b[39m'\u001b[39;49m, []), Function(\u001b[39m'\u001b[39;49m\u001b[39ma\u001b[39;49m\u001b[39m'\u001b[39;49m, [])]))\n\u001b[1;32m      6\u001b[0m af\u001b[39m.\u001b[39madd_attack(attack\u001b[39m=\u001b[39mFunction(\u001b[39m\"\u001b[39m\u001b[39matt\u001b[39m\u001b[39m\"\u001b[39m, [Function(\u001b[39m'\u001b[39m\u001b[39mb\u001b[39m\u001b[39m'\u001b[39m, []), Function(\u001b[39m'\u001b[39m\u001b[39mc\u001b[39m\u001b[39m'\u001b[39m, [])]))\n",
      "File \u001b[0;32m~/repos/ipafair/incraf.py:166\u001b[0m, in \u001b[0;36mincr_af_solver.add_attack\u001b[0;34m(self, source, target, attack)\u001b[0m\n\u001b[1;32m    163\u001b[0m     \u001b[39mwith\u001b[39;00m SymbolicBackend(\u001b[39mself\u001b[39m\u001b[39m.\u001b[39mctl\u001b[39m.\u001b[39mbackend()) \u001b[39mas\u001b[39;00m backend:\n\u001b[1;32m    164\u001b[0m         backend\u001b[39m.\u001b[39madd_external(attack, TruthValue(\u001b[39mTrue\u001b[39;00m))\n\u001b[0;32m--> 166\u001b[0m     \u001b[39mif\u001b[39;00m \u001b[39mnot\u001b[39;00m old: \u001b[39mself\u001b[39;49m\u001b[39m.\u001b[39;49mctl\u001b[39m.\u001b[39;49mground([(\u001b[39m\"\u001b[39;49m\u001b[39madd_attack\u001b[39;49m\u001b[39m\"\u001b[39;49m, attack\u001b[39m.\u001b[39;49marguments)])\n\u001b[1;32m    167\u001b[0m     \u001b[39m# self.ctl.ground()\u001b[39;00m\n\u001b[1;32m    169\u001b[0m \u001b[39melif\u001b[39;00m \u001b[39misinstance\u001b[39m(attack, Symbol) \u001b[39mand\u001b[39;00m (source \u001b[39m!=\u001b[39m \u001b[39mNone\u001b[39;00m \u001b[39mor\u001b[39;00m target \u001b[39m!=\u001b[39m \u001b[39mNone\u001b[39;00m):\n",
      "File \u001b[0;32m/usr/lib/python3.10/site-packages/clingo/control.py:484\u001b[0m, in \u001b[0;36mControl.ground\u001b[0;34m(self, parts, context)\u001b[0m\n\u001b[1;32m    481\u001b[0m         c_part\u001b[39m.\u001b[39mparams[i] \u001b[39m=\u001b[39m sym\u001b[39m.\u001b[39m_rep\n\u001b[1;32m    482\u001b[0m     c_part\u001b[39m.\u001b[39msize \u001b[39m=\u001b[39m \u001b[39mlen\u001b[39m(part[\u001b[39m1\u001b[39m])\n\u001b[0;32m--> 484\u001b[0m _handle_error(\n\u001b[1;32m    485\u001b[0m     _lib\u001b[39m.\u001b[39;49mclingo_control_ground(\u001b[39mself\u001b[39;49m\u001b[39m.\u001b[39;49m_rep, c_parts, \u001b[39mlen\u001b[39;49m(parts), c_cb, c_data),\n\u001b[1;32m    486\u001b[0m     data,\n\u001b[1;32m    487\u001b[0m )\n",
      "File \u001b[0;32m/usr/lib/python3.10/site-packages/clingo/_internal.py:75\u001b[0m, in \u001b[0;36m_handle_error\u001b[0;34m(ret, handler)\u001b[0m\n\u001b[1;32m     73\u001b[0m \u001b[39mif\u001b[39;00m code \u001b[39m==\u001b[39m _lib\u001b[39m.\u001b[39mclingo_error_bad_alloc:\n\u001b[1;32m     74\u001b[0m     \u001b[39mraise\u001b[39;00m \u001b[39mMemoryError\u001b[39;00m(msg)\n\u001b[0;32m---> 75\u001b[0m \u001b[39mraise\u001b[39;00m \u001b[39mRuntimeError\u001b[39;00m(msg)\n",
      "\u001b[0;31mRuntimeError\u001b[0m: redefinition of atom <'defeated(a)',4>"
     ]
    }
   ],
   "source": [
    "af.add_argument(Function(\"arg\", [Function('d', [])]))\n",
    "af.del_attack(attack=Function(\"att\", [Function('b', []), Function('a', [])]))\n",
    "af.del_attack(attack=Function(\"att\", [Function('c', []), Function('b', [])]))\n",
    "af.add_attack(attack=Function(\"att\", [Function('c', []), Function('d', [])]))\n",
    "af.add_attack(attack=Function(\"att\", [Function('d', []), Function('a', [])]))\n",
    "af.add_attack(attack=Function(\"att\", [Function('b', []), Function('c', [])]))"
   ]
  },
  {
   "cell_type": "code",
   "execution_count": 52,
   "metadata": {},
   "outputs": [
    {
     "name": "stdout",
     "output_type": "stream",
     "text": [
      " :- out(a), not defeated(a).\n",
      " :- out(b), not defeated(b).\n",
      " :- out(c), not defeated(c).\n",
      " :- att(a,b), in(b), in(a).\n",
      " :- att(b,a), in(a), in(b).\n",
      " :- att(c,b), in(b), in(c).\n",
      " :- __x17, not __x19.\n",
      " :- __x20, in(d), in(c).\n",
      "out(a) :- arg(a), not in(a).\n",
      "in(a) :- arg(a), not out(a).\n",
      "defeated(a) :- att(b,a), in(b).\n",
      "defeated(a) :- __x21, in(d).\n",
      "out(b) :- arg(b), not in(b).\n",
      "in(b) :- arg(b), not out(b).\n",
      "defeated(b) :- att(a,b), in(a).\n",
      "defeated(b) :- att(c,b), in(c).\n",
      "out(c) :- arg(c), not in(c).\n",
      "in(c) :- arg(c), not out(c).\n",
      "__x17 :- __x16, not in(d).\n",
      "in(d) :- __x16, not __x17.\n",
      "__x19 :- __x20, in(c).\n",
      "#external arg(a). [True]\n",
      "#external defeated(a). [False]\n",
      "#external arg(b). [True]\n",
      "#external defeated(b). [False]\n",
      "#external arg(c). [True]\n",
      "#external defeated(c). [False]\n",
      "#external att(a,b). [True]\n",
      "#external att(b,a). [True]\n",
      "#external att(b,a). [False]\n",
      "#external att(c,b). [True]\n",
      "#external att(c,b). [False]\n",
      "#external __x16. [True]\n",
      "#external __x19. [False]\n",
      "#external __x20. [True]\n",
      "#external __x21. [True]\n"
     ]
    }
   ],
   "source": [
    "dump_ground_program(af)"
   ]
  }
 ],
 "metadata": {
  "kernelspec": {
   "display_name": "Python 3",
   "language": "python",
   "name": "python3"
  },
  "language_info": {
   "codemirror_mode": {
    "name": "ipython",
    "version": 3
   },
   "file_extension": ".py",
   "mimetype": "text/x-python",
   "name": "python",
   "nbconvert_exporter": "python",
   "pygments_lexer": "ipython3",
   "version": "3.10.9"
  },
  "orig_nbformat": 4,
  "vscode": {
   "interpreter": {
    "hash": "e7370f93d1d0cde622a1f8e1c04877d8463912d04d973331ad4851f04de6915a"
   }
  }
 },
 "nbformat": 4,
 "nbformat_minor": 2
}
