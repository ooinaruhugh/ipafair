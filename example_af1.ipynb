{
 "cells": [
  {
   "cell_type": "code",
   "execution_count": 39,
   "metadata": {},
   "outputs": [],
   "source": [
    "def dump_ground_program(solver):\n",
    "    print(solver.prg)"
   ]
  },
  {
   "cell_type": "code",
   "execution_count": 40,
   "metadata": {},
   "outputs": [],
   "source": [
    "from incraf import incr_af_solver\n",
    "\n",
    "from clingo.core import TruthValue\n",
    "from clingo.control import Control\n",
    "from clingo.symbol import Number, Function, Symbol\n",
    "from clingo.solving import Model, SolveResult\n",
    "\n",
    "from clingox.program import Program, ProgramObserver\n",
    "from clingox.backend import SymbolicBackend"
   ]
  },
  {
   "cell_type": "code",
   "execution_count": 41,
   "metadata": {},
   "outputs": [],
   "source": [
    "def on_model(m: Model):\n",
    "    print(f\"Model {m.number}:\", m)"
   ]
  },
  {
   "attachments": {},
   "cell_type": "markdown",
   "metadata": {},
   "source": [
    "# Loading a simple AF statically"
   ]
  },
  {
   "attachments": {},
   "cell_type": "markdown",
   "metadata": {},
   "source": [
    "The following prepares a solver that just enumerates all models. "
   ]
  },
  {
   "cell_type": "code",
   "execution_count": 42,
   "metadata": {},
   "outputs": [],
   "source": [
    "ctl1 = Control(arguments=[\"--models=0\"])\n",
    "prg1 = Program()\n",
    "ctl1.register_observer(ProgramObserver(prg1))"
   ]
  },
  {
   "cell_type": "code",
   "execution_count": 43,
   "metadata": {},
   "outputs": [],
   "source": [
    "ctl1.load(\"asp/af1.lp\")\n",
    "ctl1.load(\"dung/naive.dl\")\n",
    "ctl1.load(\"asp/filter.lp\")\n",
    "\n",
    "ctl1.ground()"
   ]
  },
  {
   "attachments": {},
   "cell_type": "markdown",
   "metadata": {},
   "source": [
    "`Program` and `ProgramObserver` allow us to access the ground program if needed, which can be printed below."
   ]
  },
  {
   "cell_type": "code",
   "execution_count": 44,
   "metadata": {},
   "outputs": [],
   "source": [
    "# print(prg1)"
   ]
  },
  {
   "attachments": {},
   "cell_type": "markdown",
   "metadata": {},
   "source": [
    "# Loading a simple AF incrementally\n",
    "\n",
    "The following prepares all the data structures that we need to allow an AF to change after the initial input. \n",
    "\n",
    "For this, we break up the encoding of the semantics into parts that need to be added when an argument resp. an attack is added. (Happens in `incraf.py`)\n",
    "\n",
    "We can read both clingo files and a DIMACS-like format. (Actually, DIMACS-like crashes Python right now, so no.)"
   ]
  },
  {
   "cell_type": "code",
   "execution_count": 45,
   "metadata": {},
   "outputs": [],
   "source": [
    "af1 = incr_af_solver(\"naive\", \"asp/af1.lp\")"
   ]
  },
  {
   "attachments": {},
   "cell_type": "markdown",
   "metadata": {},
   "source": [
    "Again, we can print the ground program"
   ]
  },
  {
   "cell_type": "code",
   "execution_count": 46,
   "metadata": {},
   "outputs": [],
   "source": [
    "# print(af1.prg)"
   ]
  },
  {
   "attachments": {},
   "cell_type": "markdown",
   "metadata": {},
   "source": [
    "# Comparing the two approaches\n",
    "\n",
    "which means for now, they still don't yield the exact same results every time.\n",
    "\n",
    "For the simple AF with *naive* semantics, they do."
   ]
  },
  {
   "cell_type": "code",
   "execution_count": 47,
   "metadata": {},
   "outputs": [
    {
     "name": "stdout",
     "output_type": "stream",
     "text": [
      "=== Static solver ===\n",
      "Model 1: in(a) in(c)\n",
      "Model 2: in(b)\n",
      "\n",
      "=== Incremental solver ===\n",
      "DEBUG Model 1: in(b)\n",
      "DEBUG Model 2: in(a) in(c)\n"
     ]
    }
   ],
   "source": [
    "print(\"=== Static solver ===\")\n",
    "ctl1.solve(on_model=on_model)\n",
    "\n",
    "print(\"\\n=== Incremental solver ===\")\n",
    "af1.solve_enum(verbose=True);"
   ]
  },
  {
   "attachments": {},
   "cell_type": "markdown",
   "metadata": {},
   "source": [
    "If we try *admissible* semantics, the simple AF also works."
   ]
  },
  {
   "cell_type": "code",
   "execution_count": 48,
   "metadata": {},
   "outputs": [],
   "source": [
    "ctl2 = Control(arguments=[\"--models=0\"])\n",
    "prg2 = Program()\n",
    "ctl2.register_observer(ProgramObserver(prg2))\n",
    "\n",
    "ctl2.load(\"asp/af1.lp\")\n",
    "ctl2.load(\"dung/adm.dl\")\n",
    "ctl2.load(\"asp/filter.lp\")\n",
    "\n",
    "ctl2.ground()\n",
    "\n",
    "af1_adm = incr_af_solver(\"adm\", \"asp/af1.lp\")"
   ]
  },
  {
   "cell_type": "code",
   "execution_count": 49,
   "metadata": {},
   "outputs": [
    {
     "name": "stdout",
     "output_type": "stream",
     "text": [
      "=== Static solver ===\n",
      "Model 1: \n",
      "Model 2: in(a) in(c)\n",
      "Model 3: in(a)\n",
      "Model 4: in(c)\n",
      "\n",
      "=== Incremental solver ===\n",
      "DEBUG Model 1: in(a) in(c)\n",
      "DEBUG Model 2: in(a)\n",
      "DEBUG Model 3: \n",
      "DEBUG Model 4: in(c)\n"
     ]
    }
   ],
   "source": [
    "print(\"=== Static solver ===\")\n",
    "ctl2.solve(on_model=on_model)\n",
    "\n",
    "print(\"\\n=== Incremental solver ===\")\n",
    "af1_adm.solve_enum(verbose=True);"
   ]
  },
  {
   "attachments": {},
   "cell_type": "markdown",
   "metadata": {},
   "source": [
    "# A more complex AF"
   ]
  },
  {
   "attachments": {
    "image.png": {
     "image/png": "[encoded data removed]"
    }
   },
   "cell_type": "markdown",
   "metadata": {},
   "source": [
    "For another, more complex AF ![image.png](attachment:image.png), things get weird again. "
   ]
  },
  {
   "attachments": {},
   "cell_type": "markdown",
   "metadata": {},
   "source": [
    "## Naive semantics"
   ]
  },
  {
   "cell_type": "code",
   "execution_count": 50,
   "metadata": {},
   "outputs": [],
   "source": [
    "ctl3 = Control(arguments=[\"--models=0\"])\n",
    "prg3 = Program()\n",
    "ctl3.register_observer(ProgramObserver(prg2))\n",
    "\n",
    "ctl3.load(\"asp/af2.lp\")\n",
    "ctl3.load(\"dung/naive.dl\")\n",
    "ctl3.load(\"asp/filter.lp\")\n",
    "\n",
    "ctl3.ground()\n",
    "\n",
    "af2_naive = incr_af_solver(\"naive\", \"asp/af2.lp\")"
   ]
  },
  {
   "attachments": {},
   "cell_type": "markdown",
   "metadata": {},
   "source": [
    "In the following example, the number of models does not agree at all."
   ]
  },
  {
   "cell_type": "code",
   "execution_count": 51,
   "metadata": {},
   "outputs": [
    {
     "name": "stdout",
     "output_type": "stream",
     "text": [
      "=== Static solver ===\n",
      "Model 1: in(a) in(f)\n",
      "Model 2: in(a) in(e)\n",
      "Model 3: in(b) in(f)\n",
      "Model 4: in(b) in(e)\n",
      "Model 5: in(a) in(d)\n",
      "Model 6: in(b) in(d)\n",
      "Model 7: in(c) in(e)\n",
      "Model 8: in(c) in(f)\n",
      "\n",
      "=== Incremental solver ===\n",
      "DEBUG Model 1: in(a) in(d)\n",
      "DEBUG Model 2: in(a) in(e)\n",
      "DEBUG Model 3: in(a) in(f)\n",
      "DEBUG Model 4: in(b) in(f)\n",
      "DEBUG Model 5: in(c) in(f)\n",
      "DEBUG Model 6: in(b) in(d)\n",
      "DEBUG Model 7: in(c) in(e)\n",
      "DEBUG Model 8: in(b) in(e)\n"
     ]
    }
   ],
   "source": [
    "print(\"=== Static solver ===\")\n",
    "ctl3.solve(on_model=on_model)\n",
    "\n",
    "print(\"\\n=== Incremental solver ===\")\n",
    "af2_naive.solve_enum(verbose=True);"
   ]
  },
  {
   "attachments": {},
   "cell_type": "markdown",
   "metadata": {},
   "source": [
    "## Admissible semantics"
   ]
  },
  {
   "cell_type": "code",
   "execution_count": 52,
   "metadata": {},
   "outputs": [],
   "source": [
    "ctl4 = Control(arguments=[\"--models=0\"])\n",
    "prg4 = Program()\n",
    "ctl4.register_observer(ProgramObserver(prg2))\n",
    "\n",
    "ctl4.load(\"asp/af2.lp\")\n",
    "ctl4.load(\"dung/adm.dl\")\n",
    "ctl4.load(\"asp/filter.lp\")\n",
    "\n",
    "ctl4.ground()\n",
    "\n",
    "af2_adm = incr_af_solver(\"adm\", \"asp/af2.lp\")"
   ]
  },
  {
   "attachments": {},
   "cell_type": "markdown",
   "metadata": {},
   "source": [
    "Here, the models do not agree at all, but interestingly the incremental admissible extensions agree with the static naive ones, consistently missing `b` and `f`."
   ]
  },
  {
   "cell_type": "code",
   "execution_count": 53,
   "metadata": {},
   "outputs": [
    {
     "name": "stdout",
     "output_type": "stream",
     "text": [
      "=== Static solver ===\n",
      "Model 1: in(a) in(e)\n",
      "Model 2: in(a)\n",
      "Model 3: in(b) in(e)\n",
      "Model 4: in(e)\n",
      "Model 5: in(b)\n",
      "Model 6: \n",
      "\n",
      "=== Incremental solver ===\n",
      "DEBUG Model 1: in(a) in(e)\n",
      "DEBUG Model 2: in(a)\n",
      "DEBUG Model 3: in(b) in(e)\n",
      "DEBUG Model 4: in(e)\n",
      "DEBUG Model 5: \n",
      "DEBUG Model 6: in(b)\n"
     ]
    },
    {
     "data": {
      "text/plain": [
       "[[Function('in', [Function('a', [], True)], True),\n",
       "  Function('in', [Function('e', [], True)], True)],\n",
       " [Function('in', [Function('a', [], True)], True)],\n",
       " [Function('in', [Function('b', [], True)], True),\n",
       "  Function('in', [Function('e', [], True)], True)],\n",
       " [Function('in', [Function('e', [], True)], True)],\n",
       " [],\n",
       " [Function('in', [Function('b', [], True)], True)]]"
      ]
     },
     "execution_count": 53,
     "metadata": {},
     "output_type": "execute_result"
    }
   ],
   "source": [
    "print(\"=== Static solver ===\")\n",
    "ctl4.solve(on_model=on_model)\n",
    "\n",
    "print(\"\\n=== Incremental solver ===\")\n",
    "af2_adm.solve_enum(verbose=True);"
   ]
  },
  {
   "attachments": {},
   "cell_type": "markdown",
   "metadata": {},
   "source": [
    "# A middle AF"
   ]
  },
  {
   "cell_type": "code",
   "execution_count": 54,
   "metadata": {},
   "outputs": [],
   "source": [
    "ctl5 = Control(arguments=[\"--models=0\"])\n",
    "prg5 = Program()\n",
    "ctl5.register_observer(ProgramObserver(prg5))\n",
    "\n",
    "ctl5.load(\"asp/af3.lp\")\n",
    "ctl5.load(f\"dung/naive.dl\")\n",
    "ctl5.load(\"asp/filter.lp\")\n",
    "ctl5.ground()\n",
    "\n",
    "af3 = incr_af_solver(\"naive\", \"asp/af3.lp\")"
   ]
  },
  {
   "attachments": {},
   "cell_type": "markdown",
   "metadata": {},
   "source": [
    "Grounding for the static version"
   ]
  },
  {
   "cell_type": "code",
   "execution_count": 55,
   "metadata": {},
   "outputs": [],
   "source": [
    "# print(prg5)"
   ]
  },
  {
   "attachments": {},
   "cell_type": "markdown",
   "metadata": {},
   "source": [
    "Grounding for the incremental version"
   ]
  },
  {
   "cell_type": "code",
   "execution_count": 56,
   "metadata": {},
   "outputs": [],
   "source": [
    "# print(af3.prg)"
   ]
  },
  {
   "attachments": {},
   "cell_type": "markdown",
   "metadata": {},
   "source": [
    "Enumerating the models with both approaches, they don't agree."
   ]
  },
  {
   "cell_type": "code",
   "execution_count": 57,
   "metadata": {},
   "outputs": [
    {
     "name": "stdout",
     "output_type": "stream",
     "text": [
      "\n",
      "\n",
      " === Solve and enumerate the static thing ===\n",
      "Model 1: in(b) in(d)\n",
      "Model 2: in(a) in(c)\n",
      "\n",
      "\n",
      " === Solve and enumerate the incremental version ===\n"
     ]
    },
    {
     "data": {
      "text/plain": [
       "[[Function('in', [Function('a', [], True)], True),\n",
       "  Function('in', [Function('c', [], True)], True)],\n",
       " [Function('in', [Function('b', [], True)], True),\n",
       "  Function('in', [Function('d', [], True)], True)]]"
      ]
     },
     "execution_count": 57,
     "metadata": {},
     "output_type": "execute_result"
    }
   ],
   "source": [
    "print(\"\\n\\n === Solve and enumerate the static thing ===\")\n",
    "ctl5.solve(on_model=on_model)\n",
    "print(\"\\n\\n === Solve and enumerate the incremental version ===\")\n",
    "af3.solve_enum(verbose=True);"
   ]
  }
 ],
 "metadata": {
  "kernelspec": {
   "display_name": ".venv",
   "language": "python",
   "name": "python3"
  },
  "language_info": {
   "codemirror_mode": {
    "name": "ipython",
    "version": 3
   },
   "file_extension": ".py",
   "mimetype": "text/x-python",
   "name": "python",
   "nbconvert_exporter": "python",
   "pygments_lexer": "ipython3",
   "version": "3.10.9"
  },
  "orig_nbformat": 4,
  "vscode": {
   "interpreter": {
    "hash": "97deb38c5e5bda459b6538c4e11ced4e6d022556e59ae4e40918ae1831535558"
   }
  }
 },
 "nbformat": 4,
 "nbformat_minor": 2
}
