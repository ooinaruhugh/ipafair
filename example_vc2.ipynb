{
 "cells": [
  {
   "cell_type": "code",
   "execution_count": 2,
   "metadata": {},
   "outputs": [],
   "source": [
    "from vcsolver import SimpleVertexCoverSolver\n",
    "\n",
    "def dump_ground_program(vc: SimpleVertexCoverSolver):\n",
    "    print(\"\\n === Ground program ===\")\n",
    "    print(vc.prg)"
   ]
  },
  {
   "cell_type": "code",
   "execution_count": 9,
   "metadata": {},
   "outputs": [
    {
     "name": "stdout",
     "output_type": "stream",
     "text": [
      "\n",
      " === Instance ===\n",
      "#external vertex(1). [True]\n",
      "#external vertex(2). [True]\n",
      "#external vertex(3). [True]\n",
      "#external vertex(4). [True]\n",
      "#external vertex(5). [True]\n",
      "#external vertex(6). [True]\n",
      "#external vertex(7). [True]\n",
      "#external vertex(8). [True]\n",
      "#external vertex(9). [True]\n",
      "#external edge(1,2). [True]\n",
      "#external edge(2,1). [True]\n",
      "#external edge(1,4). [True]\n",
      "#external edge(4,1). [True]\n",
      "#external edge(1,6). [True]\n",
      "#external edge(6,1). [True]\n",
      "#external edge(1,8). [True]\n",
      "#external edge(8,1). [True]\n",
      "#external edge(2,3). [True]\n",
      "#external edge(3,2). [True]\n",
      "#external edge(3,4). [True]\n",
      "#external edge(4,3). [True]\n",
      "#external edge(3,6). [True]\n",
      "#external edge(6,3). [True]\n",
      "#external edge(3,8). [True]\n",
      "#external edge(8,3). [True]\n",
      "#external edge(6,7). [True]\n",
      "#external edge(7,6). [True]\n",
      "#external edge(7,8). [True]\n",
      "#external edge(8,7). [True]\n",
      "\n",
      " === Ground program ===\n",
      " :- edge(1,2), not in(1), not in(2).\n",
      " :- edge(2,1), not in(2), not in(1).\n",
      " :- edge(1,4), not in(1), not in(4).\n",
      " :- edge(4,1), not in(4), not in(1).\n",
      " :- edge(1,6), not in(1), not in(6).\n",
      " :- edge(6,1), not in(6), not in(1).\n",
      " :- edge(1,8), not in(1), not in(8).\n",
      " :- edge(8,1), not in(8), not in(1).\n",
      " :- edge(2,3), not in(2), not in(3).\n",
      " :- edge(3,2), not in(3), not in(2).\n",
      " :- edge(3,4), not in(3), not in(4).\n",
      " :- edge(4,3), not in(4), not in(3).\n",
      " :- edge(3,6), not in(3), not in(6).\n",
      " :- edge(6,3), not in(6), not in(3).\n",
      " :- edge(3,8), not in(3), not in(8).\n",
      " :- edge(8,3), not in(8), not in(3).\n",
      " :- edge(6,7), not in(6), not in(7).\n",
      " :- edge(7,6), not in(7), not in(6).\n",
      " :- edge(7,8), not in(7), not in(8).\n",
      " :- edge(8,7), not in(8), not in(7).\n",
      "in(1) :- vertex(1), not __x31.\n",
      "__x31 :- vertex(1), not in(1).\n",
      "in(2) :- vertex(2), not __x33.\n",
      "__x33 :- vertex(2), not in(2).\n",
      "in(3) :- vertex(3), not __x35.\n",
      "__x35 :- vertex(3), not in(3).\n",
      "in(4) :- vertex(4), not __x37.\n",
      "__x37 :- vertex(4), not in(4).\n",
      "in(5) :- vertex(5), not __x39.\n",
      "__x39 :- vertex(5), not in(5).\n",
      "in(6) :- vertex(6), not __x41.\n",
      "__x41 :- vertex(6), not in(6).\n",
      "in(7) :- vertex(7), not __x43.\n",
      "__x43 :- vertex(7), not in(7).\n",
      "in(8) :- vertex(8), not __x45.\n",
      "__x45 :- vertex(8), not in(8).\n",
      "in(9) :- vertex(9), not __x47.\n",
      "__x47 :- vertex(9), not in(9).\n",
      "#external vertex(1). [True]\n",
      "#external vertex(2). [True]\n",
      "#external vertex(3). [True]\n",
      "#external vertex(4). [True]\n",
      "#external vertex(5). [True]\n",
      "#external vertex(6). [True]\n",
      "#external vertex(7). [True]\n",
      "#external vertex(8). [True]\n",
      "#external vertex(9). [True]\n",
      "#external edge(1,2). [True]\n",
      "#external edge(2,1). [True]\n",
      "#external edge(1,4). [True]\n",
      "#external edge(4,1). [True]\n",
      "#external edge(1,6). [True]\n",
      "#external edge(6,1). [True]\n",
      "#external edge(1,8). [True]\n",
      "#external edge(8,1). [True]\n",
      "#external edge(2,3). [True]\n",
      "#external edge(3,2). [True]\n",
      "#external edge(3,4). [True]\n",
      "#external edge(4,3). [True]\n",
      "#external edge(3,6). [True]\n",
      "#external edge(6,3). [True]\n",
      "#external edge(3,8). [True]\n",
      "#external edge(8,3). [True]\n",
      "#external edge(6,7). [True]\n",
      "#external edge(7,6). [True]\n",
      "#external edge(7,8). [True]\n",
      "#external edge(8,7). [True]\n"
     ]
    }
   ],
   "source": [
    "vc = SimpleVertexCoverSolver(\"asp/instance1.vc\", debug = True, show_models=False)"
   ]
  },
  {
   "cell_type": "code",
   "execution_count": 10,
   "metadata": {},
   "outputs": [
    {
     "name": "stdout",
     "output_type": "stream",
     "text": [
      "True 104\n"
     ]
    }
   ],
   "source": [
    "print(vc.solve(), vc.model_count)"
   ]
  },
  {
   "cell_type": "code",
   "execution_count": 11,
   "metadata": {},
   "outputs": [
    {
     "name": "stdout",
     "output_type": "stream",
     "text": [
      "True 78\n"
     ]
    }
   ],
   "source": [
    "vc.add_edge(5,9)\n",
    "print(vc.solve(), vc.model_count)"
   ]
  },
  {
   "cell_type": "code",
   "execution_count": 12,
   "metadata": {},
   "outputs": [
    {
     "name": "stdout",
     "output_type": "stream",
     "text": [
      "True 104\n"
     ]
    }
   ],
   "source": [
    "vc.del_edge(5,9)\n",
    "vc.add_edge(5,9)\n",
    "print(vc.solve(), vc.model_count)"
   ]
  }
 ],
 "metadata": {
  "kernelspec": {
   "display_name": "Python 3",
   "language": "python",
   "name": "python3"
  },
  "language_info": {
   "codemirror_mode": {
    "name": "ipython",
    "version": 3
   },
   "file_extension": ".py",
   "mimetype": "text/x-python",
   "name": "python",
   "nbconvert_exporter": "python",
   "pygments_lexer": "ipython3",
   "version": "3.10.9"
  },
  "orig_nbformat": 4,
  "vscode": {
   "interpreter": {
    "hash": "e7370f93d1d0cde622a1f8e1c04877d8463912d04d973331ad4851f04de6915a"
   }
  }
 },
 "nbformat": 4,
 "nbformat_minor": 2
}
