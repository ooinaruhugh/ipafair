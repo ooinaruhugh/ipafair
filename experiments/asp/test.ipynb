{
 "cells": [
  {
   "cell_type": "code",
   "execution_count": 53,
   "metadata": {},
   "outputs": [],
   "source": [
    "from clingo.control import Control\n",
    "\n",
    "def on_model(m):\n",
    "    print(m)"
   ]
  },
  {
   "cell_type": "code",
   "execution_count": 54,
   "metadata": {},
   "outputs": [],
   "source": [
    "ctl = Control(arguments=[\"--models=0\"])\n",
    "# ctl.load(\"filter.lp\")\n",
    "\n",
    "# First load the instance, so we can get the symbolic atoms\n",
    "ctl.load(\"vc-instance.lp\")"
   ]
  },
  {
   "cell_type": "code",
   "execution_count": 55,
   "metadata": {},
   "outputs": [
    {
     "data": {
      "text/plain": [
       "[]"
      ]
     },
     "execution_count": 55,
     "metadata": {},
     "output_type": "execute_result"
    }
   ],
   "source": [
    "ctl.ground()\n",
    "symbols = list(ctl.symbolic_atoms)\n",
    "[[x.literal, str(x.symbol)] for x in symbols]"
   ]
  },
  {
   "cell_type": "code",
   "execution_count": 56,
   "metadata": {},
   "outputs": [],
   "source": [
    "ctl.load(\"vertex-cover.lp\")"
   ]
  },
  {
   "cell_type": "code",
   "execution_count": 57,
   "metadata": {},
   "outputs": [],
   "source": [
    "prog_blocks = [\n",
    "    (\"base\", []),\n",
    "    (\"instance\", []),\n",
    "    (\"problem\", []),\n",
    "    # (\"minimal\", [])\n",
    "]\n",
    "\n",
    "ctl.ground(prog_blocks)"
   ]
  },
  {
   "cell_type": "code",
   "execution_count": 58,
   "metadata": {},
   "outputs": [
    {
     "data": {
      "text/plain": [
       "[[1, 'edge(1,2)'],\n",
       " [2, 'edge(3,4)'],\n",
       " [3, 'edge(2,3)'],\n",
       " [4, 'edge(2,5)'],\n",
       " [5, 'edge(5,2)'],\n",
       " [6, 'edge(3,2)'],\n",
       " [7, 'edge(4,3)'],\n",
       " [8, 'edge(2,1)'],\n",
       " [9, 'vertex(1)'],\n",
       " [10, 'vertex(2)'],\n",
       " [11, 'vertex(3)'],\n",
       " [12, 'vertex(4)'],\n",
       " [13, 'vertex(5)'],\n",
       " [19, 'out(1)'],\n",
       " [20, 'out(2)'],\n",
       " [21, 'out(3)'],\n",
       " [22, 'out(4)'],\n",
       " [23, 'out(5)'],\n",
       " [14, 'in(1)'],\n",
       " [15, 'in(2)'],\n",
       " [16, 'in(3)'],\n",
       " [17, 'in(4)'],\n",
       " [18, 'in(5)']]"
      ]
     },
     "execution_count": 58,
     "metadata": {},
     "output_type": "execute_result"
    }
   ],
   "source": [
    "[[x.literal, str(x.symbol)] for x in ctl.symbolic_atoms]"
   ]
  },
  {
   "cell_type": "code",
   "execution_count": 59,
   "metadata": {},
   "outputs": [],
   "source": [
    "assumptions = []\n",
    "result = ctl.solve(assumptions, on_model=on_model)"
   ]
  },
  {
   "cell_type": "code",
   "execution_count": 68,
   "metadata": {},
   "outputs": [
    {
     "data": {
      "text/plain": [
       "SolveResult(6)"
      ]
     },
     "execution_count": 68,
     "metadata": {},
     "output_type": "execute_result"
    }
   ],
   "source": [
    "result"
   ]
  },
  {
   "cell_type": "code",
   "execution_count": 61,
   "metadata": {},
   "outputs": [],
   "source": [
    "def add_vertex(ctl, v):\n",
    "    ctl.add(\"edits\", [], f\"vertex({v}).\")\n",
    "    \n",
    "def add_edge(ctl, s, t):\n",
    "    ctl.add(\"edits\", [], f\"edge({s},{t}).\")"
   ]
  },
  {
   "cell_type": "code",
   "execution_count": 62,
   "metadata": {},
   "outputs": [],
   "source": [
    "add_vertex(ctl, 6)\n",
    "add_edge(ctl, 1, 6)"
   ]
  },
  {
   "cell_type": "code",
   "execution_count": 63,
   "metadata": {},
   "outputs": [],
   "source": [
    "ctl.ground([(\"problem\", []), (\"edits\", [])])"
   ]
  },
  {
   "cell_type": "code",
   "execution_count": 64,
   "metadata": {},
   "outputs": [
    {
     "data": {
      "text/plain": [
       "[[1, 'edge(1,2)'],\n",
       " [2, 'edge(3,4)'],\n",
       " [3, 'edge(2,3)'],\n",
       " [4, 'edge(2,5)'],\n",
       " [5, 'edge(5,2)'],\n",
       " [6, 'edge(3,2)'],\n",
       " [7, 'edge(4,3)'],\n",
       " [8, 'edge(2,1)'],\n",
       " [25, 'edge(1,6)'],\n",
       " [26, 'edge(6,1)'],\n",
       " [9, 'vertex(1)'],\n",
       " [10, 'vertex(2)'],\n",
       " [11, 'vertex(3)'],\n",
       " [12, 'vertex(4)'],\n",
       " [13, 'vertex(5)'],\n",
       " [24, 'vertex(6)'],\n",
       " [19, 'out(1)'],\n",
       " [20, 'out(2)'],\n",
       " [21, 'out(3)'],\n",
       " [22, 'out(4)'],\n",
       " [23, 'out(5)'],\n",
       " [28, 'out(6)'],\n",
       " [14, 'in(1)'],\n",
       " [15, 'in(2)'],\n",
       " [16, 'in(3)'],\n",
       " [17, 'in(4)'],\n",
       " [18, 'in(5)'],\n",
       " [27, 'in(6)']]"
      ]
     },
     "execution_count": 64,
     "metadata": {},
     "output_type": "execute_result"
    }
   ],
   "source": [
    "[[x.literal, str(x.symbol)] for x in ctl.symbolic_atoms]"
   ]
  },
  {
   "cell_type": "code",
   "execution_count": 65,
   "metadata": {},
   "outputs": [
    {
     "data": {
      "text/plain": [
       "SolveResult(6)"
      ]
     },
     "execution_count": 65,
     "metadata": {},
     "output_type": "execute_result"
    }
   ],
   "source": [
    "ctl.solve(assumptions, on_model=on_model)"
   ]
  }
 ],
 "metadata": {
  "kernelspec": {
   "display_name": "Python 3 (ipykernel)",
   "language": "python",
   "name": "python3"
  },
  "language_info": {
   "codemirror_mode": {
    "name": "ipython",
    "version": 3
   },
   "file_extension": ".py",
   "mimetype": "text/x-python",
   "name": "python",
   "nbconvert_exporter": "python",
   "pygments_lexer": "ipython3",
   "version": "3.10.9"
  }
 },
 "nbformat": 4,
 "nbformat_minor": 2
}
