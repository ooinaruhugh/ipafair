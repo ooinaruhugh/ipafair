{
 "cells": [
  {
   "cell_type": "code",
   "execution_count": 6,
   "metadata": {},
   "outputs": [],
   "source": [
    "from clingo.ast import parse_string, Transformer, ASTType"
   ]
  },
  {
   "cell_type": "code",
   "execution_count": 9,
   "metadata": {},
   "outputs": [],
   "source": [
    "class DumpTransformer(Transformer):\n",
    "    def visit(self, node):\n",
    "        print(node.ast_type, node.child_keys)\n",
    "        if node.ast_type == ASTType.Rule:\n",
    "            return self.visit_Rule(node)\n",
    "        return node\n",
    "    \n",
    "    def visit_Rule(self, node):\n",
    "        for key, value in node.items():\n",
    "            print(key, value)\n",
    "        return node"
   ]
  },
  {
   "cell_type": "code",
   "execution_count": 12,
   "metadata": {},
   "outputs": [
    {
     "name": "stdout",
     "output_type": "stream",
     "text": [
      "ASTType.Program ['parameters']\n",
      "#program base.\n",
      "ASTType.Rule ['head', 'body']\n",
      "location Location(begin=Position(filename='<string>', line=1, column=1), end=Position(filename='<string>', line=1, column=8))\n",
      "head arg(1)\n",
      "body []\n",
      "arg(1).\n",
      "ASTType.Rule ['head', 'body']\n",
      "location Location(begin=Position(filename='<string>', line=1, column=9), end=Position(filename='<string>', line=1, column=16))\n",
      "head arg(2)\n",
      "body []\n",
      "arg(2).\n",
      "ASTType.Rule ['head', 'body']\n",
      "location Location(begin=Position(filename='<string>', line=1, column=17), end=Position(filename='<string>', line=1, column=27))\n",
      "head arg((3..6))\n",
      "body []\n",
      "arg((3..6)).\n"
     ]
    }
   ],
   "source": [
    "dt = DumpTransformer()\n",
    "parse_string(\"arg(1). arg(2). arg(3..6).\", lambda stm: print(dt(stm)))"
   ]
  }
 ],
 "metadata": {
  "kernelspec": {
   "display_name": "Python 3",
   "language": "python",
   "name": "python3"
  },
  "language_info": {
   "codemirror_mode": {
    "name": "ipython",
    "version": 3
   },
   "file_extension": ".py",
   "mimetype": "text/x-python",
   "name": "python",
   "nbconvert_exporter": "python",
   "pygments_lexer": "ipython3",
   "version": "3.10.9 (main, Dec 19 2022, 17:35:49) [GCC 12.2.0]"
  },
  "orig_nbformat": 4,
  "vscode": {
   "interpreter": {
    "hash": "e7370f93d1d0cde622a1f8e1c04877d8463912d04d973331ad4851f04de6915a"
   }
  }
 },
 "nbformat": 4,
 "nbformat_minor": 2
}
