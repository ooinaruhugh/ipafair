{
 "cells": [
  {
   "cell_type": "code",
   "execution_count": 2,
   "metadata": {},
   "outputs": [],
   "source": [
    "from clingo.control import Control"
   ]
  },
  {
   "cell_type": "code",
   "execution_count": 7,
   "metadata": {},
   "outputs": [],
   "source": [
    "ctl = Control()\n",
    "# ctl.add(\"arg(1). arg(2). arg(3..6). \")\n",
    "ctl.load(\"asp/af1.lp\")\n",
    "ctl.ground()"
   ]
  },
  {
   "cell_type": "code",
   "execution_count": 9,
   "metadata": {},
   "outputs": [
    {
     "name": "stdout",
     "output_type": "stream",
     "text": [
      "[Function('a', [], True)] 1\n",
      "[Function('b', [], True)] 2\n",
      "[Function('c', [], True)] 3\n"
     ]
    }
   ],
   "source": [
    "for x in ctl.symbolic_atoms.by_signature(\"arg\", 1):\n",
    "    print(x.symbol.arguments, x.literal)"
   ]
  },
  {
   "cell_type": "code",
   "execution_count": 11,
   "metadata": {},
   "outputs": [
    {
     "name": "stdout",
     "output_type": "stream",
     "text": [
      "[Function('a', [], True), Function('b', [], True)] 4\n",
      "[Function('b', [], True), Function('a', [], True)] 5\n",
      "[Function('c', [], True), Function('b', [], True)] 6\n"
     ]
    }
   ],
   "source": [
    "for x in ctl.symbolic_atoms.by_signature(\"att\", 2):\n",
    "    print(x.symbol.arguments, x.literal)"
   ]
  }
 ],
 "metadata": {
  "kernelspec": {
   "display_name": "Python 3",
   "language": "python",
   "name": "python3"
  },
  "language_info": {
   "codemirror_mode": {
    "name": "ipython",
    "version": 3
   },
   "file_extension": ".py",
   "mimetype": "text/x-python",
   "name": "python",
   "nbconvert_exporter": "python",
   "pygments_lexer": "ipython3",
   "version": "3.10.9 (main, Dec 19 2022, 17:35:49) [GCC 12.2.0]"
  },
  "orig_nbformat": 4,
  "vscode": {
   "interpreter": {
    "hash": "e7370f93d1d0cde622a1f8e1c04877d8463912d04d973331ad4851f04de6915a"
   }
  }
 },
 "nbformat": 4,
 "nbformat_minor": 2
}
