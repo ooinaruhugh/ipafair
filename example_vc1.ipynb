{
 "cells": [
  {
   "cell_type": "code",
   "execution_count": 1,
   "metadata": {},
   "outputs": [],
   "source": [
    "from vcsolver import SimpleVertexCoverSolver\n",
    "\n",
    "def dump_ground_program(vc: SimpleVertexCoverSolver):\n",
    "    print(\"\\n === Ground program ===\")\n",
    "    print(vc.prg)"
   ]
  },
  {
   "attachments": {},
   "cell_type": "markdown",
   "metadata": {},
   "source": [
    "First, we initialize an empty solver object. We use that to build up the instance from scratch."
   ]
  },
  {
   "cell_type": "code",
   "execution_count": 2,
   "metadata": {},
   "outputs": [
    {
     "name": "stderr",
     "output_type": "stream",
     "text": [
      "asp/vertex-cover.lp:9:22-31: info: atom does not occur in any rule head:\n",
      "  vertex(X)\n",
      "\n",
      "asp/vertex-cover.lp:11:22-31: info: atom does not occur in any rule head:\n",
      "  vertex(X)\n",
      "\n",
      "asp/vertex-cover.lp:14:4-13: info: atom does not occur in any rule head:\n",
      "  edge(X,Y)\n",
      "\n"
     ]
    }
   ],
   "source": [
    "vc = SimpleVertexCoverSolver(debug = True, show_models=True)\n",
    "# vc.ctl.enable_cleanup = False"
   ]
  },
  {
   "attachments": {},
   "cell_type": "markdown",
   "metadata": {},
   "source": [
    "Let's start with an isolated vertex. We expect two solution sets since we either select or do not select the vertex. The blank line is the empty set."
   ]
  },
  {
   "cell_type": "code",
   "execution_count": 3,
   "metadata": {},
   "outputs": [],
   "source": [
    "vc.add_vertex(1)"
   ]
  },
  {
   "cell_type": "code",
   "execution_count": 4,
   "metadata": {},
   "outputs": [
    {
     "name": "stdout",
     "output_type": "stream",
     "text": [
      "\n",
      "in(1)\n",
      "True 2\n",
      "\n",
      " === Ground program ===\n",
      "__x2 :- __x1, not in(1).\n",
      "in(1) :- __x1, not __x2.\n",
      "#external __x1. [True]\n"
     ]
    }
   ],
   "source": [
    "print(vc.solve(), vc.model_count)\n",
    "dump_ground_program(vc)"
   ]
  },
  {
   "attachments": {},
   "cell_type": "markdown",
   "metadata": {},
   "source": [
    "Now we add another vertex and an edge between those two edges. As expected, this yields three solutions since we have to select at least on vertex."
   ]
  },
  {
   "cell_type": "code",
   "execution_count": 5,
   "metadata": {},
   "outputs": [
    {
     "name": "stdout",
     "output_type": "stream",
     "text": [
      "in(2)\n",
      "in(1)\n",
      "in(1) in(2)\n",
      "True 3\n",
      "\n",
      " === Ground program ===\n",
      " :- __x7, not in(1), not in(2).\n",
      "__x2 :- __x1, not in(1).\n",
      "in(1) :- __x1, not __x2.\n",
      "__x5 :- __x4, not in(2).\n",
      "in(2) :- __x4, not __x5.\n",
      "#external __x1. [True]\n",
      "#external __x4. [True]\n",
      "#external __x7. [True]\n",
      "#external __x8. [True]\n"
     ]
    }
   ],
   "source": [
    "vc.add_vertex(2)\n",
    "vc.add_edge(1, 2)\n",
    "print(vc.solve(), vc.model_count)\n",
    "dump_ground_program(vc)"
   ]
  },
  {
   "attachments": {},
   "cell_type": "markdown",
   "metadata": {},
   "source": [
    "Now we delete the edge and see what happens. It should allow the empty set now."
   ]
  },
  {
   "cell_type": "code",
   "execution_count": 6,
   "metadata": {},
   "outputs": [
    {
     "name": "stdout",
     "output_type": "stream",
     "text": [
      "\n",
      "in(2)\n",
      "in(1)\n",
      "in(1) in(2)\n",
      "True 4\n",
      "\n",
      " === Ground program ===\n",
      " :- __x7, not in(1), not in(2).\n",
      "__x2 :- __x1, not in(1).\n",
      "in(1) :- __x1, not __x2.\n",
      "__x5 :- __x4, not in(2).\n",
      "in(2) :- __x4, not __x5.\n",
      "#external __x1. [True]\n",
      "#external __x4. [True]\n",
      "#external __x7. [True]\n",
      "#external __x7. [False]\n",
      "#external __x8. [True]\n",
      "#external __x8. [False]\n"
     ]
    }
   ],
   "source": [
    "vc.del_edge(1, 2)\n",
    "print(vc.solve(), vc.model_count)\n",
    "dump_ground_program(vc)"
   ]
  },
  {
   "attachments": {},
   "cell_type": "markdown",
   "metadata": {},
   "source": [
    "Now we add the edge again and it should be as before."
   ]
  },
  {
   "cell_type": "code",
   "execution_count": 7,
   "metadata": {},
   "outputs": [
    {
     "name": "stdout",
     "output_type": "stream",
     "text": [
      "in(2)\n",
      "in(1)\n",
      "in(1) in(2)\n",
      "True 3\n",
      "\n",
      " === Ground program ===\n",
      " :- __x7, not in(1), not in(2).\n",
      "__x2 :- __x1, not in(1).\n",
      "in(1) :- __x1, not __x2.\n",
      "__x5 :- __x4, not in(2).\n",
      "in(2) :- __x4, not __x5.\n",
      "#external __x1. [True]\n",
      "#external __x4. [True]\n",
      "#external __x7. [True]\n",
      "#external __x7. [True]\n",
      "#external __x7. [False]\n",
      "#external __x8. [True]\n",
      "#external __x8. [True]\n",
      "#external __x8. [False]\n"
     ]
    }
   ],
   "source": [
    "vc.add_edge(1, 2)\n",
    "print(vc.solve(), vc.model_count)\n",
    "dump_ground_program(vc)"
   ]
  },
  {
   "attachments": {},
   "cell_type": "markdown",
   "metadata": {},
   "source": [
    "What happens if we delete a vertex and have an dangling edge?"
   ]
  },
  {
   "cell_type": "code",
   "execution_count": 8,
   "metadata": {},
   "outputs": [
    {
     "name": "stdout",
     "output_type": "stream",
     "text": [
      "\n",
      "in(1)\n",
      "True 2\n",
      "\n",
      " === Ground program ===\n",
      " :- __x7, not in(1), not in(2).\n",
      "__x2 :- __x1, not in(1).\n",
      "in(1) :- __x1, not __x2.\n",
      "__x5 :- __x4, not in(2).\n",
      "in(2) :- __x4, not __x5.\n",
      "#external __x1. [True]\n",
      "#external __x4. [True]\n",
      "#external __x4. [False]\n",
      "#external __x7. [True]\n",
      "#external __x7. [True]\n",
      "#external __x7. [False]\n",
      "#external __x7. [False]\n",
      "#external __x8. [True]\n",
      "#external __x8. [True]\n",
      "#external __x8. [False]\n",
      "#external __x8. [False]\n"
     ]
    }
   ],
   "source": [
    "vc.del_vertex(2)\n",
    "print(vc.solve(), vc.model_count)\n",
    "dump_ground_program(vc)"
   ]
  },
  {
   "attachments": {},
   "cell_type": "markdown",
   "metadata": {},
   "source": [
    "Now we return to the previous state."
   ]
  },
  {
   "cell_type": "code",
   "execution_count": 9,
   "metadata": {},
   "outputs": [
    {
     "name": "stdout",
     "output_type": "stream",
     "text": [
      "in(2)\n",
      "in(1)\n",
      "in(1) in(2)\n",
      "True 3\n",
      "\n",
      " === Ground program ===\n",
      " :- __x7, not in(1), not in(2).\n",
      "__x2 :- __x1, not in(1).\n",
      "in(1) :- __x1, not __x2.\n",
      "__x5 :- __x4, not in(2).\n",
      "in(2) :- __x4, not __x5.\n",
      "#external __x1. [True]\n",
      "#external __x4. [True]\n",
      "#external __x4. [True]\n",
      "#external __x4. [False]\n",
      "#external __x7. [True]\n",
      "#external __x7. [True]\n",
      "#external __x7. [True]\n",
      "#external __x7. [False]\n",
      "#external __x7. [False]\n",
      "#external __x8. [True]\n",
      "#external __x8. [True]\n",
      "#external __x8. [True]\n",
      "#external __x8. [False]\n",
      "#external __x8. [False]\n"
     ]
    }
   ],
   "source": [
    "vc.add_vertex(2)\n",
    "vc.add_edge(1, 2)\n",
    "print(vc.solve(), vc.model_count)\n",
    "\n",
    "dump_ground_program(vc)"
   ]
  }
 ],
 "metadata": {
  "kernelspec": {
   "display_name": ".venv",
   "language": "python",
   "name": "python3"
  },
  "language_info": {
   "codemirror_mode": {
    "name": "ipython",
    "version": 3
   },
   "file_extension": ".py",
   "mimetype": "text/x-python",
   "name": "python",
   "nbconvert_exporter": "python",
   "pygments_lexer": "ipython3",
   "version": "3.10.9"
  },
  "orig_nbformat": 4,
  "vscode": {
   "interpreter": {
    "hash": "97deb38c5e5bda459b6538c4e11ced4e6d022556e59ae4e40918ae1831535558"
   }
  }
 },
 "nbformat": 4,
 "nbformat_minor": 2
}
